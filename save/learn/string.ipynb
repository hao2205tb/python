{
 "cells": [
  {
   "cell_type": "code",
   "execution_count": null,
   "metadata": {},
   "outputs": [],
   "source": [
    "## Các dạng string\n",
    "# Sử dụng dấu nháy đơn\n",
    "single_quoted_string = 'Hello, World!'\n",
    "\n",
    "# Sử dụng dấu nháy kép\n",
    "double_quoted_string = \"Python Programming\"\n",
    "\n",
    "# Sử dụng dấu nháy ba để tạo chuỗi nhiều dòng\n",
    "multi_line_string = '''This is a\n",
    "multi-line\n",
    "string in Python.'''\n",
    "\n",
    "# Hoặc có thể sử dụng dấu nháy kép ba cũng được\n",
    "another_multi_line_string = \"\"\"This is another\n",
    "multi-line\n",
    "string.\"\"\"\n",
    "\n",
    "# Chuỗi rỗng\n",
    "empty_string = ''"
   ]
  },
  {
   "cell_type": "code",
   "execution_count": 9,
   "metadata": {},
   "outputs": [],
   "source": [
    "# format string\n",
    "name = \"An\"\n",
    "age = 26 \n",
    "\n",
    "# % \n",
    "str0 = \"My name is %s and I am %d years old.\" % (name, age)\n",
    "# format\n",
    "str1 = \"My name is {} and I am {} years old.\".format(name, age)\n",
    "str2 = \"My name is {0} and I am {1} years old.\".format(name, age)\n",
    "format = \"My name is {0} and I am {1} years old.\"\n",
    "str3 = format.format(name, age)\n",
    "#f-string\n",
    "str4 = f\"My name is {name} and I am {age} years old.\""
   ]
  },
  {
   "cell_type": "code",
   "execution_count": 10,
   "metadata": {},
   "outputs": [
    {
     "name": "stdout",
     "output_type": "stream",
     "text": [
      "HELLO, WORLD!\n",
      "hello, world!\n"
     ]
    }
   ],
   "source": [
    "# Chuyển đổi chữ hoa và chữ thường:\n",
    "my_string = \"Hello, World!\"\n",
    "upper_case = my_string.upper()\n",
    "lower_case = my_string.lower()\n",
    "print(upper_case)  # Kết quả: HELLO, WORLD!\n",
    "print(lower_case)  # Kết quả: hello, world!"
   ]
  },
  {
   "cell_type": "code",
   "execution_count": 11,
   "metadata": {},
   "outputs": [
    {
     "name": "stdout",
     "output_type": "stream",
     "text": [
      "Hello, World!\n"
     ]
    }
   ],
   "source": [
    "# Xóa khoảng trắng ở đầu và cuối chuỗi :strip\n",
    "# bạn có thể sử dụng lstrip() (chỉ xóa ở đầu) hoặc rstrip() (chỉ xóa ở cuối).\n",
    "my_string = \"   Hello, World!   \"\n",
    "stripped_str = my_string.strip()\n",
    "print(stripped_str)  # Kết quả: Hello, World!"
   ]
  },
  {
   "cell_type": "code",
   "execution_count": 13,
   "metadata": {},
   "outputs": [
    {
     "name": "stdout",
     "output_type": "stream",
     "text": [
      "Original String: 'Hello, World! Hello, Universe!'\n",
      "Trimmed String (start): 'World! Hello, Universe!'\n",
      "Trimmed String (end): 'Hello, World! Hello, Universe'\n"
     ]
    }
   ],
   "source": [
    "# xóa chuỗi ở đầu hoặc cuối câu\n",
    "original_str = \"Hello, World! Hello, Universe!\"\n",
    "\n",
    "# Xóa chuỗi con \"Hello, \" ở đầu\n",
    "trimmed_str_start = original_str.lstrip(\"Hello, \")\n",
    "\n",
    "# Xóa chuỗi con \" World!\" ở cuối\n",
    "trimmed_str_end = original_str.rstrip(\" World!\")\n",
    "\n",
    "print(\"Original String:\", repr(original_str))\n",
    "print(\"Trimmed String (start):\", repr(trimmed_str_start))\n",
    "print(\"Trimmed String (end):\", repr(trimmed_str_end))\n"
   ]
  },
  {
   "cell_type": "code",
   "execution_count": 15,
   "metadata": {},
   "outputs": [
    {
     "data": {
      "text/plain": [
       "' an thịnh '"
      ]
     },
     "execution_count": 15,
     "metadata": {},
     "output_type": "execute_result"
    }
   ],
   "source": [
    "# Xóa cả 2 đầu\n",
    "str0 = \"hhh an thịnh hh\"\n",
    "str1 = str0.strip(\"h\")\n",
    "str1"
   ]
  },
  {
   "cell_type": "code",
   "execution_count": 12,
   "metadata": {},
   "outputs": [
    {
     "name": "stdout",
     "output_type": "stream",
     "text": [
      "Hello, Python!\n"
     ]
    }
   ],
   "source": [
    "# Thay thế ký tự hoặc chuỗi con:\n",
    "my_string = \"Hello, World!\"\n",
    "replaced_str = my_string.replace(\"World\", \"Python\")\n",
    "print(replaced_str)  # Kết quả: Hello, Python!"
   ]
  },
  {
   "cell_type": "code",
   "execution_count": null,
   "metadata": {},
   "outputs": [],
   "source": [
    "# Chia chuỗi thành danh sách các từ:\n",
    "my_string = \"Hello, World!\"\n",
    "word_list = my_string.split(\", \")\n",
    "print(word_list)  # Kết quả: ['Hello', 'World!']"
   ]
  }
 ],
 "metadata": {
  "kernelspec": {
   "display_name": "Python 3",
   "language": "python",
   "name": "python3"
  },
  "language_info": {
   "codemirror_mode": {
    "name": "ipython",
    "version": 3
   },
   "file_extension": ".py",
   "mimetype": "text/x-python",
   "name": "python",
   "nbconvert_exporter": "python",
   "pygments_lexer": "ipython3",
   "version": "3.10.13"
  }
 },
 "nbformat": 4,
 "nbformat_minor": 2
}
